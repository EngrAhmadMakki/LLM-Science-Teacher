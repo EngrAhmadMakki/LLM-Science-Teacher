{
 "cells": [
  {
   "cell_type": "markdown",
   "id": "f85b25fa-b56e-49a1-845d-a7e6175ab89b",
   "metadata": {},
   "source": [
    "### LLM SCIENCE TEACHER\n",
    "AHMAD MAKKI ------\n",
    "MSDSF23M022"
   ]
  },
  {
   "cell_type": "code",
   "execution_count": 16,
   "id": "7b9ae633-34cd-4fd1-8450-365d2159493d",
   "metadata": {},
   "outputs": [
    {
     "name": "stdout",
     "output_type": "stream",
     "text": [
      "Hello! I'm your Science Teacher. Can you please tell me your age?\n"
     ]
    },
    {
     "name": "stdin",
     "output_type": "stream",
     "text": [
      "Enter your age:  5\n",
      "Ask your science question:  what is science?\n"
     ]
    },
    {
     "name": "stderr",
     "output_type": "stream",
     "text": [
      "The attention mask and the pad token id were not set. As a consequence, you may observe unexpected behavior. Please pass your input's `attention_mask` to obtain reliable results.\n",
      "Setting `pad_token_id` to `eos_token_id`:50256 for open-end generation.\n"
     ]
    },
    {
     "name": "stdout",
     "output_type": "stream",
     "text": [
      "LLM Science Teacher: A 5-year-old student asks: what is science?\n",
      "\n",
      "\"Science is the study of the physical world, the study of the physical world, the study of the physical world, the study of the physical world, the study of the physical world, the study of the physical world, the study of the physical world, the study of the physical world, the study of the physical world, the study of the physical world, the study of the physical world, the study of the physical world, the study of the physical world, the study of the physical world, the study of the physical world, the study of the physical world, the study of the physical world, the study of the physical world, the study of the physical world\n"
     ]
    },
    {
     "name": "stdin",
     "output_type": "stream",
     "text": [
      "Ask your science question:  what is google?\n"
     ]
    },
    {
     "name": "stderr",
     "output_type": "stream",
     "text": [
      "The attention mask and the pad token id were not set. As a consequence, you may observe unexpected behavior. Please pass your input's `attention_mask` to obtain reliable results.\n",
      "Setting `pad_token_id` to `eos_token_id`:50256 for open-end generation.\n"
     ]
    },
    {
     "name": "stdout",
     "output_type": "stream",
     "text": [
      "LLM Science Teacher: A 5-year-old student asks: what is google?\n",
      "\n",
      "Google is a search engine that allows you to search for things like \"Google\" or \"Google+\". It's a search engine that allows you to search for things like \"Google\" or \"Google+\". It's a search engine that allows you to search for things like \"Google\" or \"Google+\".\n",
      "\n",
      "Google is a search engine that allows you to search for things like \"Google\" or \"Google+\". It's a search engine that allows you to search for things like \"Google\" or \"Google+\".\n",
      "\n",
      "Google is a search engine that allows you to search for things like \"Google\" or \"Google+\". It's a search engine\n"
     ]
    },
    {
     "name": "stdin",
     "output_type": "stream",
     "text": [
      "Ask your science question:  what is pakistan?\n"
     ]
    },
    {
     "name": "stderr",
     "output_type": "stream",
     "text": [
      "The attention mask and the pad token id were not set. As a consequence, you may observe unexpected behavior. Please pass your input's `attention_mask` to obtain reliable results.\n",
      "Setting `pad_token_id` to `eos_token_id`:50256 for open-end generation.\n"
     ]
    },
    {
     "name": "stdout",
     "output_type": "stream",
     "text": [
      "LLM Science Teacher: A 5-year-old student asks: what is pakistan?\n",
      "\n",
      "The answer is: pakistan.\n",
      "\n",
      "The term pakistan is a derogatory term for the Pakistani Taliban, which is a group of militants who have been fighting the Pakistani government since the 1980s.\n",
      "\n",
      "The Taliban have been fighting the Pakistani government since the 1980s.\n",
      "\n",
      "The Taliban have been fighting the Pakistani government since the 1980s.\n",
      "\n",
      "The Taliban have been fighting the Pakistani government since the 1980s.\n",
      "\n",
      "The Taliban have been fighting the Pakistani government since the 1980s.\n",
      "\n",
      "The Taliban have been fighting the Pakistani government since the 1980s.\n",
      "\n",
      "The Taliban have been fighting the Pakistani government since the 1980s.\n"
     ]
    },
    {
     "name": "stdin",
     "output_type": "stream",
     "text": [
      "Ask your science question:  exit\n"
     ]
    },
    {
     "name": "stdout",
     "output_type": "stream",
     "text": [
      "Goodbye!\n"
     ]
    }
   ],
   "source": [
    "from transformers import AutoTokenizer, AutoModelForCausalLM\n",
    "import torch\n",
    "\n",
    "# Load the tokenizer and model\n",
    "tokenizer = AutoTokenizer.from_pretrained(\"openai-community/gpt2\")\n",
    "model = AutoModelForCausalLM.from_pretrained(\"openai-community/gpt2\")\n",
    "\n",
    "def ask_age():\n",
    "    return \"Hello! I'm your Science Teacher. Can you please tell me your age?\"\n",
    "\n",
    "def generate_response(age, question):\n",
    "    if age <= 10:\n",
    "        prompt = f\"A {age}-year-old student asks: {question}\"\n",
    "    elif 10 < age <= 15:\n",
    "        prompt = f\"A {age}-year-old student asks: {question}\"\n",
    "    else:\n",
    "        prompt = f\"A student asks: {question}\"\n",
    "\n",
    "    inputs = tokenizer.encode(prompt, return_tensors=\"pt\")\n",
    "    outputs = model.generate(inputs, max_length=150, num_return_sequences=1)\n",
    "    response = tokenizer.decode(outputs[0], skip_special_tokens=True)\n",
    "    return response.strip()\n",
    "\n",
    "def chatbot():\n",
    "    # Initial greeting and asking age\n",
    "    print(ask_age())\n",
    "    age = int(input(\"Enter your age: \"))\n",
    "\n",
    "    while True:\n",
    "        question = input(\"Ask your science question: \")\n",
    "        if question.lower() in ['exit', 'quit']:\n",
    "            print(\"Goodbye!\")\n",
    "            break\n",
    "        answer = generate_response(age, question)\n",
    "        print(f\"LLM Science Teacher: {answer}\")\n",
    "\n",
    "if __name__ == \"__main__\":\n",
    "    chatbot()"
   ]
  },
  {
   "cell_type": "code",
   "execution_count": 22,
   "id": "ba873741-f8b6-49e0-8cb3-31923e1d87df",
   "metadata": {},
   "outputs": [
    {
     "name": "stdout",
     "output_type": "stream",
     "text": [
      "Hello! I'm your Science Teacher. Can you please tell me your age?\n",
      "Listening...\n",
      "Listening...\n"
     ]
    },
    {
     "name": "stderr",
     "output_type": "stream",
     "text": [
      "The attention mask and the pad token id were not set. As a consequence, you may observe unexpected behavior. Please pass your input's `attention_mask` to obtain reliable results.\n",
      "Setting `pad_token_id` to `eos_token_id`:50256 for open-end generation.\n"
     ]
    },
    {
     "name": "stdout",
     "output_type": "stream",
     "text": [
      "LLM Science Teacher: A 10-year-old student asks: what is science?\n",
      "\n",
      "\"Science is the study of the physical world, the study of the physical world, the study of the physical world, the study of the physical world, the study of the physical world, the study of the physical world, the study of the physical world, the study of the physical world, the study of the physical world, the study of the physical world, the study of the physical world, the study of the physical world, the study of the physical world, the study of the physical world, the study of the physical world, the study of the physical world, the study of the physical world, the study of the physical world, the study of the physical world\n",
      "Listening...\n",
      "Goodbye!\n"
     ]
    }
   ],
   "source": [
    "import pyttsx3\n",
    "import speech_recognition as sr\n",
    "from transformers import AutoTokenizer, AutoModelForCausalLM\n",
    "import torch\n",
    "\n",
    "# Initialize the speech engine\n",
    "engine = pyttsx3.init()\n",
    "\n",
    "# Load the tokenizer and model\n",
    "tokenizer = AutoTokenizer.from_pretrained(\"openai-community/gpt2\")\n",
    "model = AutoModelForCausalLM.from_pretrained(\"openai-community/gpt2\")\n",
    "\n",
    "# Initialize the recognizer\n",
    "recognizer = sr.Recognizer()\n",
    "\n",
    "def ask_age():\n",
    "    return \"Hello! I'm your Science Teacher. Can you please tell me your age?\"\n",
    "\n",
    "def generate_response(age, question):\n",
    "    if age <= 10:\n",
    "        prompt = f\"A {age}-year-old student asks: {question}\"\n",
    "    elif 10 < age <= 15:\n",
    "        prompt = f\"A {age}-year-old student asks: {question}\"\n",
    "    else:\n",
    "        prompt = f\"A student asks: {question}\"\n",
    "\n",
    "    inputs = tokenizer.encode(prompt, return_tensors=\"pt\")\n",
    "    outputs = model.generate(inputs, max_length=150, num_return_sequences=1)\n",
    "    response = tokenizer.decode(outputs[0], skip_special_tokens=True)\n",
    "    return response.strip()\n",
    "\n",
    "def speak_text(text):\n",
    "    engine.say(text)\n",
    "    engine.runAndWait()\n",
    "\n",
    "def listen():\n",
    "    with sr.Microphone() as source:\n",
    "        print(\"Listening...\")\n",
    "        audio_data = recognizer.listen(source)\n",
    "        try:\n",
    "            text = recognizer.recognize_google(audio_data)\n",
    "            return text\n",
    "        except sr.UnknownValueError:\n",
    "            speak_text(\"Sorry, I did not understand that. Please try again.\")\n",
    "            return listen()\n",
    "        except sr.RequestError:\n",
    "            speak_text(\"Sorry, the speech service is not available. Please try again later.\")\n",
    "            return None\n",
    "\n",
    "def chatbot():\n",
    "    # Initial greeting and asking age\n",
    "    greeting = ask_age()\n",
    "    speak_text(greeting)\n",
    "    print(greeting)\n",
    "    \n",
    "    age_text = listen()\n",
    "    if age_text is None:\n",
    "        return\n",
    "    try:\n",
    "        age = int(age_text)\n",
    "    except ValueError:\n",
    "        speak_text(\"Sorry, I couldn't understand your age. Please try again.\")\n",
    "        return\n",
    "\n",
    "    while True:\n",
    "        speak_text(\"Ask your science question.\")\n",
    "        question = listen()\n",
    "        if question is None:\n",
    "            return\n",
    "        if question.lower() in ['exit', 'quit']:\n",
    "            speak_text(\"Goodbye!\")\n",
    "            print(\"Goodbye!\")\n",
    "            break\n",
    "        answer = generate_response(age, question)\n",
    "        speak_text(f\"LLM Science Teacher: {answer}\")\n",
    "        print(f\"LLM Science Teacher: {answer}\")\n",
    "\n",
    "if __name__ == \"__main__\":\n",
    "    chatbot()"
   ]
  }
 ],
 "metadata": {
  "kernelspec": {
   "display_name": "Python 3 (ipykernel)",
   "language": "python",
   "name": "python3"
  },
  "language_info": {
   "codemirror_mode": {
    "name": "ipython",
    "version": 3
   },
   "file_extension": ".py",
   "mimetype": "text/x-python",
   "name": "python",
   "nbconvert_exporter": "python",
   "pygments_lexer": "ipython3",
   "version": "3.11.7"
  }
 },
 "nbformat": 4,
 "nbformat_minor": 5
}
